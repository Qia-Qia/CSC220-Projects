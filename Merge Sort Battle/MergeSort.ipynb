{
 "cells": [
  {
   "cell_type": "code",
   "execution_count": 2,
   "metadata": {},
   "outputs": [],
   "source": [
    "using BenchmarkTools  "
   ]
  },
  {
   "cell_type": "code",
   "execution_count": 13,
   "metadata": {},
   "outputs": [
    {
     "data": {
      "text/plain": [
       "6-element Array{Int64,1}:\n",
       " 2\n",
       " 3\n",
       " 4\n",
       " 8\n",
       " 8\n",
       " 9"
      ]
     },
     "execution_count": 13,
     "metadata": {},
     "output_type": "execute_result"
    }
   ],
   "source": [
    "a = [9 , 2, 8, 3, 4, 8]\n",
    "juliaSortFunc = sort(a)"
   ]
  },
  {
   "cell_type": "code",
   "execution_count": 14,
   "metadata": {},
   "outputs": [
    {
     "data": {
      "text/plain": [
       "BenchmarkTools.Trial: \n",
       "  memory estimate:  0 bytes\n",
       "  allocs estimate:  0\n",
       "  --------------\n",
       "  minimum time:     2.500 ns (0.00% GC)\n",
       "  median time:      2.800 ns (0.00% GC)\n",
       "  mean time:        3.051 ns (0.00% GC)\n",
       "  maximum time:     416.312 ns (0.00% GC)\n",
       "  --------------\n",
       "  samples:          10000\n",
       "  evals/sample:     1000"
      ]
     },
     "execution_count": 14,
     "metadata": {},
     "output_type": "execute_result"
    }
   ],
   "source": [
    "Julia_list_bench = @benchmark $juliaSortFunc"
   ]
  },
  {
   "cell_type": "code",
   "execution_count": 15,
   "metadata": {},
   "outputs": [
    {
     "data": {
      "text/plain": [
       "5-element Array{Int64,1}:\n",
       " 1\n",
       " 2\n",
       " 4\n",
       " 5\n",
       " 8"
      ]
     },
     "execution_count": 15,
     "metadata": {},
     "output_type": "execute_result"
    }
   ],
   "source": [
    "using PyCall\n",
    "import PyCall\n",
    "py\"\"\"\n",
    "a = sorted([1,2,8,4,5])\n",
    "\"\"\"\n",
    "pyMergeBI= py\"a\""
   ]
  },
  {
   "cell_type": "code",
   "execution_count": 16,
   "metadata": {},
   "outputs": [
    {
     "data": {
      "text/plain": [
       "BenchmarkTools.Trial: \n",
       "  memory estimate:  0 bytes\n",
       "  allocs estimate:  0\n",
       "  --------------\n",
       "  minimum time:     2.400 ns (0.00% GC)\n",
       "  median time:      2.600 ns (0.00% GC)\n",
       "  mean time:        2.836 ns (0.00% GC)\n",
       "  maximum time:     417.913 ns (0.00% GC)\n",
       "  --------------\n",
       "  samples:          10000\n",
       "  evals/sample:     1000"
      ]
     },
     "execution_count": 16,
     "metadata": {},
     "output_type": "execute_result"
    }
   ],
   "source": [
    "py_list_bench = @benchmark $pyMergeBI"
   ]
  },
  {
   "cell_type": "code",
   "execution_count": 4,
   "metadata": {},
   "outputs": [
    {
     "name": "stdout",
     "output_type": "stream",
     "text": [
      "question = [3, 1, 4, 2], result = [1.0, 2.0, 3.0, 4.0]\n",
      "question = [5, 1, 3, 9, 0], result = [0.0, 1.0, 3.0, 5.0, 9.0]\n"
     ]
    },
    {
     "data": {
      "text/plain": [
       "BenchmarkTools.Trial: \n",
       "  memory estimate:  1.50 KiB\n",
       "  allocs estimate:  19\n",
       "  --------------\n",
       "  minimum time:     678.150 ns (0.00% GC)\n",
       "  median time:      895.025 ns (0.00% GC)\n",
       "  mean time:        1.044 μs (13.01% GC)\n",
       "  maximum time:     19.126 μs (93.37% GC)\n",
       "  --------------\n",
       "  samples:          10000\n",
       "  evals/sample:     160"
      ]
     },
     "execution_count": 4,
     "metadata": {},
     "output_type": "execute_result"
    }
   ],
   "source": [
    "## Cited from: https://github.com/sashang/notebook_of_code/blob/master/julia/merge-sort/merge-sort.jl\n",
    "function mergesort(x)\n",
    "    function combine(lhs, rhs)\n",
    "        j = 1\n",
    "        k = 1\n",
    "        result = Float64[]\n",
    "        while true\n",
    "            #if left>right,add right, compare next right to left\n",
    "            if lhs[j] > rhs[k]\n",
    "                append!(result, [rhs[k]])\n",
    "                k += 1\n",
    "                #else add left\n",
    "            else\n",
    "                append!(result, [lhs[j]])\n",
    "                j += 1\n",
    "            end\n",
    "            #After comparing if left or right has left elements, append to the list \n",
    "            if j == length(lhs) + 1\n",
    "                append!(result, rhs[k:end])\n",
    "                break\n",
    "            end\n",
    "            if k == length(rhs) + 1\n",
    "                append!(result, lhs[j:end])\n",
    "                break\n",
    "            end\n",
    "        end\n",
    "        return result\n",
    "    end\n",
    "\n",
    "    l = length(x)\n",
    "    if l > 2\n",
    "        #divide the array into two parts from the middle\n",
    "        left = x[1 : div(l, 2)]\n",
    "        right = x[div(l, 2) + 1 : end]\n",
    "        #merge left and right sides\n",
    "        left_result = mergesort(left)\n",
    "        right_result = mergesort(right)\n",
    "        return combine(left_result, right_result)\n",
    "    #if length < 2, return\n",
    "    elseif l < 2\n",
    "        return x\n",
    "        #else change integer placss\n",
    "    else\n",
    "        if x[1] > x[2]\n",
    "            temp = x[1]\n",
    "            x[1] = x[2]\n",
    "            x[2] = temp\n",
    "        end\n",
    "        return x\n",
    "    end\n",
    "end\n",
    "\n",
    "question = [3,1,4,2]\n",
    "result = mergesort(question)\n",
    "println(\"question = $question, result = $result\")\n",
    "question = [5,1,3,9,0]\n",
    "result = mergesort(question)\n",
    "println(\"question = $question, result = $result\")\n",
    "julia_mergeSort_bench = @benchmark mergesort(question)"
   ]
  },
  {
   "cell_type": "markdown",
   "metadata": {},
   "source": [
    "## Python hand code"
   ]
  },
  {
   "cell_type": "code",
   "execution_count": 20,
   "metadata": {},
   "outputs": [
    {
     "data": {
      "text/plain": [
       "PyObject <function mergesort at 0x7efc686796e0>"
      ]
     },
     "execution_count": 20,
     "metadata": {},
     "output_type": "execute_result"
    }
   ],
   "source": [
    "using PyCall\n",
    "import PyCall\n",
    "#this function works the same as the Julia one.\n",
    "py\"\"\"\n",
    "def merge(left, right):\n",
    "    if not len(left) or not len(right):\n",
    "        return left or right\n",
    "\n",
    "    result = []\n",
    "    i, j = 0, 0\n",
    "    while (len(result) < len(left) + len(right)):\n",
    "        if left[i] < right[j]:\n",
    "            result.append(left[i])\n",
    "            i+= 1\n",
    "        else:\n",
    "            result.append(right[j])\n",
    "            j+= 1\n",
    "        if i == len(left) or j == len(right):\n",
    "            result.extend(left[i:] or right[j:])\n",
    "            break \n",
    "\n",
    "    return result\n",
    "\n",
    "def mergesort(list):\n",
    "    if len(list) < 2:\n",
    "        return list\n",
    "\n",
    "    middle = len(list)/2\n",
    "    left = mergesort(list[:middle])\n",
    "    right = mergesort(list[middle:])\n",
    "\n",
    "    return merge(left, right)\n",
    "\"\"\"\n",
    "pyMerge= py\"mergesort\""
   ]
  },
  {
   "cell_type": "code",
   "execution_count": 19,
   "metadata": {},
   "outputs": [
    {
     "data": {
      "text/plain": [
       "10-element Array{Int64,1}:\n",
       "  1\n",
       "  1\n",
       "  2\n",
       "  2\n",
       "  3\n",
       "  3\n",
       "  4\n",
       "  5\n",
       "  6\n",
       " 39"
      ]
     },
     "execution_count": 19,
     "metadata": {},
     "output_type": "execute_result"
    }
   ],
   "source": [
    "pyMerge([1,2,3,2,3,4,5,39,6,1])"
   ]
  },
  {
   "cell_type": "markdown",
   "metadata": {},
   "source": [
    "## Benchmark and compare the mergesort"
   ]
  },
  {
   "cell_type": "code",
   "execution_count": 5,
   "metadata": {},
   "outputs": [
    {
     "data": {
      "text/plain": [
       "10-element Array{Float64,1}:\n",
       " 0.532095\n",
       " 0.702998\n",
       " 0.474587\n",
       " 0.480696\n",
       " 0.918217\n",
       " 0.408147\n",
       " 0.242646\n",
       " 0.521129\n",
       " 0.265137\n",
       " 0.91519 "
      ]
     },
     "execution_count": 5,
     "metadata": {},
     "output_type": "execute_result"
    }
   ],
   "source": [
    "list1 = rand(10^1)\n"
   ]
  },
  {
   "cell_type": "code",
   "execution_count": 6,
   "metadata": {},
   "outputs": [
    {
     "data": {
      "text/plain": [
       "100-element Array{Float64,1}:\n",
       " 0.878333 \n",
       " 0.670572 \n",
       " 0.178788 \n",
       " 0.499995 \n",
       " 0.764966 \n",
       " 0.58597  \n",
       " 0.550583 \n",
       " 0.0309895\n",
       " 0.38604  \n",
       " 0.524821 \n",
       " 0.260489 \n",
       " 0.990628 \n",
       " 0.484277 \n",
       " ⋮        \n",
       " 0.498048 \n",
       " 0.427792 \n",
       " 0.738624 \n",
       " 0.669685 \n",
       " 0.0474331\n",
       " 0.513834 \n",
       " 0.787073 \n",
       " 0.116324 \n",
       " 0.399483 \n",
       " 0.219259 \n",
       " 0.915294 \n",
       " 0.231196 "
      ]
     },
     "execution_count": 6,
     "metadata": {},
     "output_type": "execute_result"
    }
   ],
   "source": [
    "list2 = rand(10^2)\n"
   ]
  },
  {
   "cell_type": "code",
   "execution_count": 7,
   "metadata": {},
   "outputs": [
    {
     "data": {
      "text/plain": [
       "1000-element Array{Float64,1}:\n",
       " 0.906459  \n",
       " 0.205111  \n",
       " 0.695981  \n",
       " 0.297911  \n",
       " 0.446215  \n",
       " 0.80322   \n",
       " 0.144272  \n",
       " 0.398349  \n",
       " 0.651     \n",
       " 0.787362  \n",
       " 0.657078  \n",
       " 0.369036  \n",
       " 0.99056   \n",
       " ⋮         \n",
       " 0.0222591 \n",
       " 0.562864  \n",
       " 0.492234  \n",
       " 0.60971   \n",
       " 0.586979  \n",
       " 0.762661  \n",
       " 0.526683  \n",
       " 0.650137  \n",
       " 0.312079  \n",
       " 0.180246  \n",
       " 0.0498706 \n",
       " 0.00790802"
      ]
     },
     "execution_count": 7,
     "metadata": {},
     "output_type": "execute_result"
    }
   ],
   "source": [
    "list3 = rand(10^3)"
   ]
  },
  {
   "cell_type": "code",
   "execution_count": 8,
   "metadata": {},
   "outputs": [
    {
     "data": {
      "text/plain": [
       "10000-element Array{Float64,1}:\n",
       " 0.925677  \n",
       " 0.369049  \n",
       " 0.171023  \n",
       " 0.677286  \n",
       " 0.246453  \n",
       " 0.350996  \n",
       " 0.199358  \n",
       " 0.733291  \n",
       " 0.0771156 \n",
       " 0.386293  \n",
       " 0.320286  \n",
       " 0.298294  \n",
       " 0.855126  \n",
       " ⋮         \n",
       " 0.526782  \n",
       " 0.999233  \n",
       " 0.34051   \n",
       " 0.948248  \n",
       " 0.53551   \n",
       " 0.865398  \n",
       " 0.710215  \n",
       " 0.00823558\n",
       " 0.818313  \n",
       " 0.804083  \n",
       " 0.20132   \n",
       " 0.794447  "
      ]
     },
     "execution_count": 8,
     "metadata": {},
     "output_type": "execute_result"
    }
   ],
   "source": [
    "list4 = rand(10^4)\n"
   ]
  },
  {
   "cell_type": "code",
   "execution_count": 9,
   "metadata": {},
   "outputs": [
    {
     "data": {
      "text/plain": [
       "100000-element Array{Float64,1}:\n",
       " 0.413201 \n",
       " 0.534188 \n",
       " 0.243745 \n",
       " 0.219544 \n",
       " 0.645371 \n",
       " 0.660504 \n",
       " 0.25825  \n",
       " 0.0989272\n",
       " 0.489048 \n",
       " 0.269433 \n",
       " 0.712647 \n",
       " 0.471524 \n",
       " 0.018893 \n",
       " ⋮        \n",
       " 0.434027 \n",
       " 0.342826 \n",
       " 0.848731 \n",
       " 0.232476 \n",
       " 0.693315 \n",
       " 0.332053 \n",
       " 0.0839995\n",
       " 0.845872 \n",
       " 0.963143 \n",
       " 0.251643 \n",
       " 0.429421 \n",
       " 0.763278 "
      ]
     },
     "execution_count": 9,
     "metadata": {},
     "output_type": "execute_result"
    }
   ],
   "source": [
    "list5 = rand(10^5)\n"
   ]
  },
  {
   "cell_type": "code",
   "execution_count": 10,
   "metadata": {},
   "outputs": [
    {
     "data": {
      "text/plain": [
       "1000000-element Array{Float64,1}:\n",
       " 0.421302 \n",
       " 0.805541 \n",
       " 0.065649 \n",
       " 0.733359 \n",
       " 0.680776 \n",
       " 0.863403 \n",
       " 0.912671 \n",
       " 0.227805 \n",
       " 0.866056 \n",
       " 0.311765 \n",
       " 0.144431 \n",
       " 0.694784 \n",
       " 0.934077 \n",
       " ⋮        \n",
       " 0.452874 \n",
       " 0.324267 \n",
       " 0.558644 \n",
       " 0.983651 \n",
       " 0.925677 \n",
       " 0.0129237\n",
       " 0.517849 \n",
       " 0.656013 \n",
       " 0.436855 \n",
       " 0.732021 \n",
       " 0.252444 \n",
       " 0.205842 "
      ]
     },
     "execution_count": 10,
     "metadata": {},
     "output_type": "execute_result"
    }
   ],
   "source": [
    "list6 = rand(10^6)\n"
   ]
  },
  {
   "cell_type": "code",
   "execution_count": 11,
   "metadata": {},
   "outputs": [
    {
     "data": {
      "text/plain": [
       "10000000-element Array{Float64,1}:\n",
       " 0.0490567\n",
       " 0.605519 \n",
       " 0.796321 \n",
       " 0.743196 \n",
       " 0.902136 \n",
       " 0.205133 \n",
       " 0.631686 \n",
       " 0.389377 \n",
       " 0.821074 \n",
       " 0.230321 \n",
       " 0.990929 \n",
       " 0.430442 \n",
       " 0.506281 \n",
       " ⋮        \n",
       " 0.5897   \n",
       " 0.0685921\n",
       " 0.130869 \n",
       " 0.277318 \n",
       " 0.526219 \n",
       " 0.997023 \n",
       " 0.120361 \n",
       " 0.749436 \n",
       " 0.474217 \n",
       " 0.427984 \n",
       " 0.859381 \n",
       " 0.517562 "
      ]
     },
     "execution_count": 11,
     "metadata": {},
     "output_type": "execute_result"
    }
   ],
   "source": [
    "list7 = rand(10^7)"
   ]
  },
  {
   "cell_type": "code",
   "execution_count": 34,
   "metadata": {},
   "outputs": [
    {
     "data": {
      "text/plain": [
       "BenchmarkTools.Trial: \n",
       "  memory estimate:  240 bytes\n",
       "  allocs estimate:  2\n",
       "  --------------\n",
       "  minimum time:     173.954 ns (0.00% GC)\n",
       "  median time:      217.646 ns (0.00% GC)\n",
       "  mean time:        233.522 ns (5.71% GC)\n",
       "  maximum time:     7.188 μs (96.69% GC)\n",
       "  --------------\n",
       "  samples:          10000\n",
       "  evals/sample:     737"
      ]
     },
     "execution_count": 34,
     "metadata": {},
     "output_type": "execute_result"
    }
   ],
   "source": [
    "@benchmark sort(list1)"
   ]
  },
  {
   "cell_type": "code",
   "execution_count": 35,
   "metadata": {},
   "outputs": [
    {
     "data": {
      "text/plain": [
       "BenchmarkTools.Trial: \n",
       "  memory estimate:  976 bytes\n",
       "  allocs estimate:  2\n",
       "  --------------\n",
       "  minimum time:     1.030 μs (0.00% GC)\n",
       "  median time:      1.300 μs (0.00% GC)\n",
       "  mean time:        1.526 μs (3.87% GC)\n",
       "  maximum time:     113.023 μs (95.65% GC)\n",
       "  --------------\n",
       "  samples:          10000\n",
       "  evals/sample:     20"
      ]
     },
     "execution_count": 35,
     "metadata": {},
     "output_type": "execute_result"
    }
   ],
   "source": [
    "@benchmark sort(list2)"
   ]
  },
  {
   "cell_type": "code",
   "execution_count": 36,
   "metadata": {},
   "outputs": [
    {
     "data": {
      "text/plain": [
       "BenchmarkTools.Trial: \n",
       "  memory estimate:  8.02 KiB\n",
       "  allocs estimate:  2\n",
       "  --------------\n",
       "  minimum time:     17.900 μs (0.00% GC)\n",
       "  median time:      23.901 μs (0.00% GC)\n",
       "  mean time:        24.586 μs (0.00% GC)\n",
       "  maximum time:     461.214 μs (0.00% GC)\n",
       "  --------------\n",
       "  samples:          10000\n",
       "  evals/sample:     1"
      ]
     },
     "execution_count": 36,
     "metadata": {},
     "output_type": "execute_result"
    }
   ],
   "source": [
    "@benchmark sort(list3)"
   ]
  },
  {
   "cell_type": "code",
   "execution_count": 37,
   "metadata": {},
   "outputs": [
    {
     "data": {
      "text/plain": [
       "BenchmarkTools.Trial: \n",
       "  memory estimate:  78.28 KiB\n",
       "  allocs estimate:  3\n",
       "  --------------\n",
       "  minimum time:     477.614 μs (0.00% GC)\n",
       "  median time:      616.968 μs (0.00% GC)\n",
       "  mean time:        628.770 μs (0.51% GC)\n",
       "  maximum time:     100.736 ms (0.00% GC)\n",
       "  --------------\n",
       "  samples:          7828\n",
       "  evals/sample:     1"
      ]
     },
     "execution_count": 37,
     "metadata": {},
     "output_type": "execute_result"
    }
   ],
   "source": [
    "@benchmark sort(list4)"
   ]
  },
  {
   "cell_type": "code",
   "execution_count": 38,
   "metadata": {},
   "outputs": [
    {
     "data": {
      "text/plain": [
       "BenchmarkTools.Trial: \n",
       "  memory estimate:  781.41 KiB\n",
       "  allocs estimate:  3\n",
       "  --------------\n",
       "  minimum time:     5.872 ms (0.00% GC)\n",
       "  median time:      7.018 ms (0.00% GC)\n",
       "  mean time:        7.325 ms (0.54% GC)\n",
       "  maximum time:     107.059 ms (0.00% GC)\n",
       "  --------------\n",
       "  samples:          682\n",
       "  evals/sample:     1"
      ]
     },
     "execution_count": 38,
     "metadata": {},
     "output_type": "execute_result"
    }
   ],
   "source": [
    "@benchmark sort(list5)"
   ]
  },
  {
   "cell_type": "code",
   "execution_count": 39,
   "metadata": {},
   "outputs": [
    {
     "data": {
      "text/plain": [
       "BenchmarkTools.Trial: \n",
       "  memory estimate:  7.63 MiB\n",
       "  allocs estimate:  3\n",
       "  --------------\n",
       "  minimum time:     77.227 ms (0.00% GC)\n",
       "  median time:      79.499 ms (0.00% GC)\n",
       "  mean time:        83.601 ms (0.35% GC)\n",
       "  maximum time:     105.641 ms (0.88% GC)\n",
       "  --------------\n",
       "  samples:          60\n",
       "  evals/sample:     1"
      ]
     },
     "execution_count": 39,
     "metadata": {},
     "output_type": "execute_result"
    }
   ],
   "source": [
    "@benchmark sort(list6)"
   ]
  },
  {
   "cell_type": "code",
   "execution_count": 40,
   "metadata": {},
   "outputs": [
    {
     "data": {
      "text/plain": [
       "BenchmarkTools.Trial: \n",
       "  memory estimate:  76.29 MiB\n",
       "  allocs estimate:  3\n",
       "  --------------\n",
       "  minimum time:     934.552 ms (0.03% GC)\n",
       "  median time:      1.013 s (1.09% GC)\n",
       "  mean time:        1.003 s (3.21% GC)\n",
       "  maximum time:     1.069 s (6.55% GC)\n",
       "  --------------\n",
       "  samples:          5\n",
       "  evals/sample:     1"
      ]
     },
     "execution_count": 40,
     "metadata": {},
     "output_type": "execute_result"
    }
   ],
   "source": [
    "@benchmark sort(list7)"
   ]
  },
  {
   "cell_type": "code",
   "execution_count": 41,
   "metadata": {},
   "outputs": [
    {
     "data": {
      "text/plain": [
       "BenchmarkTools.Trial: \n",
       "  memory estimate:  240 bytes\n",
       "  allocs estimate:  2\n",
       "  --------------\n",
       "  minimum time:     231.681 ns (0.00% GC)\n",
       "  median time:      271.502 ns (0.00% GC)\n",
       "  mean time:        298.281 ns (4.07% GC)\n",
       "  maximum time:     9.496 μs (0.00% GC)\n",
       "  --------------\n",
       "  samples:          10000\n",
       "  evals/sample:     442"
      ]
     },
     "execution_count": 41,
     "metadata": {},
     "output_type": "execute_result"
    }
   ],
   "source": [
    "@benchmark $PyCall.sort(list1)"
   ]
  },
  {
   "cell_type": "code",
   "execution_count": 42,
   "metadata": {},
   "outputs": [
    {
     "data": {
      "text/plain": [
       "BenchmarkTools.Trial: \n",
       "  memory estimate:  976 bytes\n",
       "  allocs estimate:  2\n",
       "  --------------\n",
       "  minimum time:     1.170 μs (0.00% GC)\n",
       "  median time:      1.350 μs (0.00% GC)\n",
       "  mean time:        1.636 μs (2.83% GC)\n",
       "  maximum time:     149.154 μs (95.79% GC)\n",
       "  --------------\n",
       "  samples:          10000\n",
       "  evals/sample:     10"
      ]
     },
     "execution_count": 42,
     "metadata": {},
     "output_type": "execute_result"
    }
   ],
   "source": [
    "@benchmark $PyCall.sort(list2)"
   ]
  },
  {
   "cell_type": "code",
   "execution_count": 43,
   "metadata": {},
   "outputs": [
    {
     "data": {
      "text/plain": [
       "BenchmarkTools.Trial: \n",
       "  memory estimate:  8.02 KiB\n",
       "  allocs estimate:  2\n",
       "  --------------\n",
       "  minimum time:     18.000 μs (0.00% GC)\n",
       "  median time:      20.400 μs (0.00% GC)\n",
       "  mean time:        22.418 μs (0.00% GC)\n",
       "  maximum time:     448.214 μs (0.00% GC)\n",
       "  --------------\n",
       "  samples:          10000\n",
       "  evals/sample:     1"
      ]
     },
     "execution_count": 43,
     "metadata": {},
     "output_type": "execute_result"
    }
   ],
   "source": [
    "@benchmark $PyCall.sort(list3)"
   ]
  },
  {
   "cell_type": "code",
   "execution_count": 44,
   "metadata": {},
   "outputs": [
    {
     "data": {
      "text/plain": [
       "BenchmarkTools.Trial: \n",
       "  memory estimate:  78.28 KiB\n",
       "  allocs estimate:  3\n",
       "  --------------\n",
       "  minimum time:     476.014 μs (0.00% GC)\n",
       "  median time:      567.567 μs (0.00% GC)\n",
       "  mean time:        590.478 μs (0.58% GC)\n",
       "  maximum time:     8.888 ms (0.00% GC)\n",
       "  --------------\n",
       "  samples:          8332\n",
       "  evals/sample:     1"
      ]
     },
     "execution_count": 44,
     "metadata": {},
     "output_type": "execute_result"
    }
   ],
   "source": [
    "@benchmark $PyCall.sort(list4)"
   ]
  },
  {
   "cell_type": "code",
   "execution_count": 45,
   "metadata": {},
   "outputs": [
    {
     "data": {
      "text/plain": [
       "BenchmarkTools.Trial: \n",
       "  memory estimate:  781.41 KiB\n",
       "  allocs estimate:  3\n",
       "  --------------\n",
       "  minimum time:     6.338 ms (0.00% GC)\n",
       "  median time:      6.741 ms (0.00% GC)\n",
       "  mean time:        7.055 ms (0.42% GC)\n",
       "  maximum time:     14.626 ms (0.00% GC)\n",
       "  --------------\n",
       "  samples:          708\n",
       "  evals/sample:     1"
      ]
     },
     "execution_count": 45,
     "metadata": {},
     "output_type": "execute_result"
    }
   ],
   "source": [
    "@benchmark $PyCall.sort(list5)"
   ]
  },
  {
   "cell_type": "code",
   "execution_count": 46,
   "metadata": {},
   "outputs": [
    {
     "data": {
      "text/plain": [
       "BenchmarkTools.Trial: \n",
       "  memory estimate:  7.63 MiB\n",
       "  allocs estimate:  3\n",
       "  --------------\n",
       "  minimum time:     76.959 ms (0.00% GC)\n",
       "  median time:      83.872 ms (0.00% GC)\n",
       "  mean time:        85.233 ms (0.43% GC)\n",
       "  maximum time:     96.829 ms (0.00% GC)\n",
       "  --------------\n",
       "  samples:          59\n",
       "  evals/sample:     1"
      ]
     },
     "execution_count": 46,
     "metadata": {},
     "output_type": "execute_result"
    }
   ],
   "source": [
    "@benchmark $PyCall.sort(list6)"
   ]
  },
  {
   "cell_type": "code",
   "execution_count": 47,
   "metadata": {},
   "outputs": [
    {
     "data": {
      "text/plain": [
       "BenchmarkTools.Trial: \n",
       "  memory estimate:  76.29 MiB\n",
       "  allocs estimate:  3\n",
       "  --------------\n",
       "  minimum time:     962.694 ms (1.31% GC)\n",
       "  median time:      1.125 s (1.12% GC)\n",
       "  mean time:        1.094 s (3.20% GC)\n",
       "  maximum time:     1.259 s (6.12% GC)\n",
       "  --------------\n",
       "  samples:          5\n",
       "  evals/sample:     1"
      ]
     },
     "execution_count": 47,
     "metadata": {},
     "output_type": "execute_result"
    }
   ],
   "source": [
    "@benchmark $PyCall.sort(list7)"
   ]
  },
  {
   "cell_type": "code",
   "execution_count": 12,
   "metadata": {},
   "outputs": [
    {
     "data": {
      "text/plain": [
       "BenchmarkTools.Trial: \n",
       "  memory estimate:  4.58 KiB\n",
       "  allocs estimate:  67\n",
       "  --------------\n",
       "  minimum time:     1.990 μs (0.00% GC)\n",
       "  median time:      2.970 μs (0.00% GC)\n",
       "  mean time:        3.800 μs (14.60% GC)\n",
       "  maximum time:     339.760 μs (96.37% GC)\n",
       "  --------------\n",
       "  samples:          10000\n",
       "  evals/sample:     10"
      ]
     },
     "execution_count": 12,
     "metadata": {},
     "output_type": "execute_result"
    }
   ],
   "source": [
    "@benchmark mergesort(list1)"
   ]
  },
  {
   "cell_type": "code",
   "execution_count": 13,
   "metadata": {},
   "outputs": [
    {
     "data": {
      "text/plain": [
       "BenchmarkTools.Trial: \n",
       "  memory estimate:  93.77 KiB\n",
       "  allocs estimate:  1378\n",
       "  --------------\n",
       "  minimum time:     41.702 μs (0.00% GC)\n",
       "  median time:      50.202 μs (0.00% GC)\n",
       "  mean time:        64.621 μs (15.34% GC)\n",
       "  maximum time:     2.930 ms (96.37% GC)\n",
       "  --------------\n",
       "  samples:          10000\n",
       "  evals/sample:     1"
      ]
     },
     "execution_count": 13,
     "metadata": {},
     "output_type": "execute_result"
    }
   ],
   "source": [
    "@benchmark mergesort(list2)"
   ]
  },
  {
   "cell_type": "code",
   "execution_count": 14,
   "metadata": {},
   "outputs": [
    {
     "data": {
      "text/plain": [
       "BenchmarkTools.Trial: \n",
       "  memory estimate:  1.26 MiB\n",
       "  allocs estimate:  19487\n",
       "  --------------\n",
       "  minimum time:     564.116 μs (0.00% GC)\n",
       "  median time:      685.221 μs (0.00% GC)\n",
       "  mean time:        849.684 μs (15.65% GC)\n",
       "  maximum time:     15.948 ms (88.60% GC)\n",
       "  --------------\n",
       "  samples:          5818\n",
       "  evals/sample:     1"
      ]
     },
     "execution_count": 14,
     "metadata": {},
     "output_type": "execute_result"
    }
   ],
   "source": [
    "@benchmark mergesort(list3)"
   ]
  },
  {
   "cell_type": "code",
   "execution_count": 15,
   "metadata": {},
   "outputs": [
    {
     "data": {
      "text/plain": [
       "BenchmarkTools.Trial: \n",
       "  memory estimate:  18.57 MiB\n",
       "  allocs estimate:  270070\n",
       "  --------------\n",
       "  minimum time:     8.876 ms (0.00% GC)\n",
       "  median time:      11.823 ms (19.07% GC)\n",
       "  mean time:        12.035 ms (16.68% GC)\n",
       "  maximum time:     20.085 ms (15.60% GC)\n",
       "  --------------\n",
       "  samples:          415\n",
       "  evals/sample:     1"
      ]
     },
     "execution_count": 15,
     "metadata": {},
     "output_type": "execute_result"
    }
   ],
   "source": [
    "@benchmark mergesort(list4)"
   ]
  },
  {
   "cell_type": "code",
   "execution_count": 16,
   "metadata": {},
   "outputs": [
    {
     "data": {
      "text/plain": [
       "BenchmarkTools.Trial: \n",
       "  memory estimate:  227.46 MiB\n",
       "  allocs estimate:  3396440\n",
       "  --------------\n",
       "  minimum time:     135.350 ms (15.78% GC)\n",
       "  median time:      144.412 ms (16.82% GC)\n",
       "  mean time:        155.669 ms (20.74% GC)\n",
       "  maximum time:     261.183 ms (48.18% GC)\n",
       "  --------------\n",
       "  samples:          33\n",
       "  evals/sample:     1"
      ]
     },
     "execution_count": 16,
     "metadata": {},
     "output_type": "execute_result"
    }
   ],
   "source": [
    "@benchmark mergesort(list5)"
   ]
  },
  {
   "cell_type": "code",
   "execution_count": 17,
   "metadata": {},
   "outputs": [
    {
     "data": {
      "text/plain": [
       "BenchmarkTools.Trial: \n",
       "  memory estimate:  2.49 GiB\n",
       "  allocs estimate:  39543251\n",
       "  --------------\n",
       "  minimum time:     1.761 s (18.87% GC)\n",
       "  median time:      2.005 s (20.64% GC)\n",
       "  mean time:        1.924 s (20.10% GC)\n",
       "  maximum time:     2.007 s (20.63% GC)\n",
       "  --------------\n",
       "  samples:          3\n",
       "  evals/sample:     1"
      ]
     },
     "execution_count": 17,
     "metadata": {},
     "output_type": "execute_result"
    }
   ],
   "source": [
    "@benchmark mergesort(list6)"
   ]
  },
  {
   "cell_type": "code",
   "execution_count": 18,
   "metadata": {},
   "outputs": [
    {
     "data": {
      "text/plain": [
       "BenchmarkTools.Trial: \n",
       "  memory estimate:  30.55 GiB\n",
       "  allocs estimate:  468751252\n",
       "  --------------\n",
       "  minimum time:     25.344 s (26.32% GC)\n",
       "  median time:      25.344 s (26.32% GC)\n",
       "  mean time:        25.344 s (26.32% GC)\n",
       "  maximum time:     25.344 s (26.32% GC)\n",
       "  --------------\n",
       "  samples:          1\n",
       "  evals/sample:     1"
      ]
     },
     "execution_count": 18,
     "metadata": {},
     "output_type": "execute_result"
    }
   ],
   "source": [
    "@benchmark mergesort(list7)"
   ]
  },
  {
   "cell_type": "code",
   "execution_count": 55,
   "metadata": {},
   "outputs": [
    {
     "data": {
      "text/plain": [
       "BenchmarkTools.Trial: \n",
       "  memory estimate:  3.58 KiB\n",
       "  allocs estimate:  100\n",
       "  --------------\n",
       "  minimum time:     283.508 μs (0.00% GC)\n",
       "  median time:      363.910 μs (0.00% GC)\n",
       "  mean time:        368.655 μs (0.40% GC)\n",
       "  maximum time:     32.571 ms (45.50% GC)\n",
       "  --------------\n",
       "  samples:          10000\n",
       "  evals/sample:     1"
      ]
     },
     "execution_count": 55,
     "metadata": {},
     "output_type": "execute_result"
    }
   ],
   "source": [
    "@benchmark pyMerge(list1)"
   ]
  },
  {
   "cell_type": "code",
   "execution_count": 56,
   "metadata": {},
   "outputs": [
    {
     "data": {
      "text/plain": [
       "BenchmarkTools.Trial: \n",
       "  memory estimate:  26.11 KiB\n",
       "  allocs estimate:  730\n",
       "  --------------\n",
       "  minimum time:     1.126 ms (0.00% GC)\n",
       "  median time:      1.313 ms (0.00% GC)\n",
       "  mean time:        1.446 ms (1.70% GC)\n",
       "  maximum time:     46.954 ms (46.33% GC)\n",
       "  --------------\n",
       "  samples:          3438\n",
       "  evals/sample:     1"
      ]
     },
     "execution_count": 56,
     "metadata": {},
     "output_type": "execute_result"
    }
   ],
   "source": [
    "@benchmark pyMerge(list2)"
   ]
  },
  {
   "cell_type": "code",
   "execution_count": 57,
   "metadata": {},
   "outputs": [
    {
     "data": {
      "text/plain": [
       "BenchmarkTools.Trial: \n",
       "  memory estimate:  251.17 KiB\n",
       "  allocs estimate:  7030\n",
       "  --------------\n",
       "  minimum time:     11.302 ms (0.00% GC)\n",
       "  median time:      12.500 ms (0.00% GC)\n",
       "  mean time:        13.758 ms (3.70% GC)\n",
       "  maximum time:     158.194 ms (77.43% GC)\n",
       "  --------------\n",
       "  samples:          364\n",
       "  evals/sample:     1"
      ]
     },
     "execution_count": 57,
     "metadata": {},
     "output_type": "execute_result"
    }
   ],
   "source": [
    "@benchmark pyMerge(list3)"
   ]
  },
  {
   "cell_type": "code",
   "execution_count": 58,
   "metadata": {},
   "outputs": [
    {
     "data": {
      "text/plain": [
       "BenchmarkTools.Trial: \n",
       "  memory estimate:  2.44 MiB\n",
       "  allocs estimate:  70032\n",
       "  --------------\n",
       "  minimum time:     128.765 ms (0.00% GC)\n",
       "  median time:      140.320 ms (0.00% GC)\n",
       "  mean time:        145.159 ms (1.33% GC)\n",
       "  maximum time:     210.442 ms (11.42% GC)\n",
       "  --------------\n",
       "  samples:          35\n",
       "  evals/sample:     1"
      ]
     },
     "execution_count": 58,
     "metadata": {},
     "output_type": "execute_result"
    }
   ],
   "source": [
    "@benchmark pyMerge(list4)"
   ]
  },
  {
   "cell_type": "code",
   "execution_count": 59,
   "metadata": {},
   "outputs": [
    {
     "data": {
      "text/plain": [
       "BenchmarkTools.Trial: \n",
       "  memory estimate:  24.42 MiB\n",
       "  allocs estimate:  700034\n",
       "  --------------\n",
       "  minimum time:     1.544 s (1.30% GC)\n",
       "  median time:      1.599 s (1.27% GC)\n",
       "  mean time:        1.598 s (1.41% GC)\n",
       "  maximum time:     1.649 s (1.78% GC)\n",
       "  --------------\n",
       "  samples:          4\n",
       "  evals/sample:     1"
      ]
     },
     "execution_count": 59,
     "metadata": {},
     "output_type": "execute_result"
    }
   ],
   "source": [
    "@benchmark pyMerge(list5)"
   ]
  },
  {
   "cell_type": "code",
   "execution_count": 60,
   "metadata": {},
   "outputs": [
    {
     "data": {
      "text/plain": [
       "BenchmarkTools.Trial: \n",
       "  memory estimate:  244.15 MiB\n",
       "  allocs estimate:  7000044\n",
       "  --------------\n",
       "  minimum time:     18.893 s (1.83% GC)\n",
       "  median time:      18.893 s (1.83% GC)\n",
       "  mean time:        18.893 s (1.83% GC)\n",
       "  maximum time:     18.893 s (1.83% GC)\n",
       "  --------------\n",
       "  samples:          1\n",
       "  evals/sample:     1"
      ]
     },
     "execution_count": 60,
     "metadata": {},
     "output_type": "execute_result"
    }
   ],
   "source": [
    "@benchmark pyMerge(list6)"
   ]
  },
  {
   "cell_type": "code",
   "execution_count": null,
   "metadata": {},
   "outputs": [],
   "source": [
    "@benchmark pyMerge(list7)"
   ]
  },
  {
   "cell_type": "markdown",
   "metadata": {},
   "source": [
    "## Comparison between sort() methods\n",
    "We can see from the test results above that the julia built in sort function is the fastest one, and most of the cases can be done in ns or us. The speed of Julia implementation of Python built in is smiliar to the Julia built in code, but it's a little bit slower.Julia hand code is a little bit slower than Python built in, but again it's not a very big difference. But the Python hand code is far slower than the other three codes, especially when the data size is very large. It's about 10^3 or 10^4 times slower.\n"
   ]
  },
  {
   "cell_type": "markdown",
   "metadata": {},
   "source": [
    "## Python sorted() exploration\n",
    "https://github.com/python/cpython/blob/master/Objects/listobject.c   \n",
    "From line 1089 to line 2399 are all the source code (in C language) for sorted () in python.\n",
    "Since there we have about 1300 lines for the source code, I don’t think there’s necessity to copy them here.   \n",
    "The algorithm used in sorted is known as Timesort, in which the code break the data up into blocks, pre-sort those blocks using insertion sort, and then merge the blocks together using mergesort. “In early python-versions, the sort function implemented a modified version of quicksort. However, it was deemed unstable and as of 2.3 they switched to using an adaptive mergesort algorithm.”    \n",
    "(https://stackoverflow.com/questions/1517347/about-pythons-built-in-sort-method)   \n",
    "But also in the source code, I found it also has the code for binarysort, so maybe the code can execute different algorithms on inputs with different sizes.   \n",
    "\n",
    "https://github.com/python/cpython/blob/master/Objects/listsort.txt   \n",
    "Here’s a comparisons of the merge sort and the Python's Samplesort Hybrid. In this experiment the author run the two algorithms on different kind of lists. Here’re some lists he run on:\n",
    "1. *sort: random data\n",
    "2. \\sort: descending data\n",
    "3. /sort: ascending data\n",
    "4. 3sort: ascending, then 3 random exchanges\n",
    "5. +sort: ascending, then 10 random at the end\n",
    "6. %sort: ascending, then randomly replace 1% of elements w/ random values\n",
    "7. ~sort: many duplicates\n",
    "8. =sort: all equal\n",
    "9. !sort: worst case scenario   \n",
    "\n",
    "The algorithms are “effectively identical” in the cases 1 to 3, with a large variety on the efficiency for the following cases"
   ]
  },
  {
   "cell_type": "markdown",
   "metadata": {},
   "source": [
    "## Julia sort() exploration\n",
    "Cited from https://docs.julialang.org/en/stable/stdlib/sort/#Sorting-Algorithms-1\n",
    "\n",
    "#### The mechanism by which Julia picks default sorting algorithms \n",
    "- is implemented via the Base.Sort.defalg function. \n",
    "- allows a particular algorithm to be registered as the default in all sorting functions for specific arrays. For example, here are the two default methods from sort.jl:\n",
    "```\n",
    "defalg(v::AbstractArray) = MergeSort\n",
    "defalg{T<:Number}(v::AbstractArray{T}) = QuickSort\n",
    "```\n",
    "- can specify an algorithm to use via the `alg` keyword \n",
    "- acted as a variant of the function `sort!` which is written in Julia     \n",
    "For example:\n",
    "```\n",
    "function sort!(v::AbstractVector, lo::Int, hi::Int, a::MergeSortAlg, o::Ordering, t=similar(v,0))\n",
    "    @inbounds if lo < hi\n",
    "        hi-lo <= SMALL_THRESHOLD && return sort!(v, lo, hi, SMALL_ALGORITHM, o)\n",
    "\n",
    "        m = (lo+hi)>>>1\n",
    "        (length(t) < m-lo+1) && resize!(t, m-lo+1)\n",
    "\n",
    "        sort!(v, lo,  m,  a, o, t)\n",
    "        sort!(v, m+1, hi, a, o, t)\n",
    "\n",
    "        i, j = 1, lo\n",
    "        while j <= m\n",
    "            t[i] = v[j]\n",
    "            i += 1\n",
    "            j += 1\n",
    "        end\n",
    "\n",
    "        i, k = 1, lo\n",
    "        while k < j <= hi\n",
    "            if lt(o, v[j], t[i])\n",
    "                v[k] = v[j]\n",
    "                j += 1\n",
    "            else\n",
    "                v[k] = t[i]\n",
    "                i += 1\n",
    "            end\n",
    "            k += 1\n",
    "        end\n",
    "        while k < j\n",
    "            v[k] = t[i]\n",
    "            k += 1\n",
    "            i += 1\n",
    "        end\n",
    "    end\n",
    "\n",
    "    return v\n",
    "end"
   ]
  },
  {
   "cell_type": "code",
   "execution_count": null,
   "metadata": {},
   "outputs": [],
   "source": []
  }
 ],
 "metadata": {
  "kernelspec": {
   "display_name": "Julia 0.6.2",
   "language": "julia",
   "name": "julia-0.6"
  },
  "language_info": {
   "file_extension": ".jl",
   "mimetype": "application/julia",
   "name": "julia",
   "version": "0.6.2"
  }
 },
 "nbformat": 4,
 "nbformat_minor": 2
}
